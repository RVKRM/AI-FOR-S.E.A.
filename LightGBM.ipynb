{
 "cells": [
  {
   "cell_type": "raw",
   "metadata": {},
   "source": [
    "Author - Rahul\n",
    "rahulvks@gmail.com"
   ]
  },
  {
   "cell_type": "raw",
   "metadata": {},
   "source": [
    "Model - LightGBM, Light Gradient Boosting Machine"
   ]
  },
  {
   "cell_type": "code",
   "execution_count": 2,
   "metadata": {},
   "outputs": [
    {
     "name": "stderr",
     "output_type": "stream",
     "text": [
      "/anaconda3/lib/python3.6/site-packages/lightgbm/__init__.py:46: UserWarning: Starting from version 2.2.1, the library file in distribution wheels for macOS is built by the Apple Clang (Xcode_8.3.1) compiler.\n",
      "This means that in case of installing LightGBM from PyPI via the ``pip install lightgbm`` command, you don't need to install the gcc compiler anymore.\n",
      "Instead of that, you need to install the OpenMP library, which is required for running LightGBM on the system with the Apple Clang compiler.\n",
      "You can install the OpenMP library by the following command: ``brew install libomp``.\n",
      "  \"You can install the OpenMP library by the following command: ``brew install libomp``.\", UserWarning)\n"
     ]
    }
   ],
   "source": [
    "import pandas as pd\n",
    "import os\n",
    "import matplotlib as plt\n",
    "import seaborn as sns\n",
    "import sklearn\n",
    "from sklearn.model_selection import train_test_split\n",
    "import matplotlib.pyplot as plt\n",
    "import numpy as np\n",
    "from datetime import datetime\n",
    "import numpy as np \n",
    "import pandas as pd \n",
    "import matplotlib.pyplot as plt\n",
    "import seaborn as sns\n",
    "import lightgbm as lgb\n",
    "import gc\n",
    "import seaborn as sns\n",
    "from joblib import load, dump\n",
    "from sklearn.model_selection import ShuffleSplit\n",
    "from sklearn.metrics import roc_auc_score\n",
    "from sklearn.metrics import confusion_matrix,accuracy_score, roc_curve, auc\n",
    "from sklearn.metrics import precision_recall_curve\n",
    "from sklearn.metrics import classification_report\n",
    "import gc\n",
    "gc.collect()\n",
    "from collections import Counter\n",
    "\n",
    "import warnings\n",
    "warnings.filterwarnings('ignore')"
   ]
  },
  {
   "cell_type": "code",
   "execution_count": 3,
   "metadata": {},
   "outputs": [],
   "source": [
    "# sklearn tools for model training and assesment\n",
    "from sklearn.model_selection import train_test_split\n",
    "from sklearn.metrics import (roc_curve, auc, accuracy_score)\n",
    "from sklearn.model_selection import GridSearchCV"
   ]
  },
  {
   "cell_type": "code",
   "execution_count": 4,
   "metadata": {},
   "outputs": [],
   "source": [
    "random_state = 42\n",
    "np.random.seed(random_state)\n"
   ]
  },
  {
   "cell_type": "code",
   "execution_count": 5,
   "metadata": {},
   "outputs": [],
   "source": [
    "os.chdir(\"/Users/dsg281/Downloads/Grab_safety/safety/safety/Meged_Data/\")"
   ]
  },
  {
   "cell_type": "code",
   "execution_count": 6,
   "metadata": {},
   "outputs": [],
   "source": [
    "#safety_meta_data = pd.read_excel(\"Train_data.xlsx\",index_col=False,nrows =1000)\n",
    "\n",
    "safety_meta_data = pd.read_excel(\"Train_data.xlsx\",index_col=False)"
   ]
  },
  {
   "cell_type": "code",
   "execution_count": 7,
   "metadata": {},
   "outputs": [],
   "source": [
    "## Addtinal features from EDA_v2.ipynb"
   ]
  },
  {
   "cell_type": "code",
   "execution_count": 8,
   "metadata": {},
   "outputs": [],
   "source": [
    "safety = safety_meta_data.copy()"
   ]
  },
  {
   "cell_type": "code",
   "execution_count": 9,
   "metadata": {},
   "outputs": [],
   "source": [
    "safety['Distance'] = safety['Speed'] * safety['second']\n",
    "safety['Acceleration'] = np.sqrt(np.power(safety['acceleration_x'], 2) + np.power(safety['acceleration_y'], 2) + np.power(safety['acceleration_z'], 2))\n",
    "safety[\"Pitch\"] = 180*np.arctan2(safety[\"acceleration_y\"], np.sqrt(safety[\"acceleration_x\"]**2+safety[\"acceleration_z\"]**2))/np.pi\n",
    "safety['Magnitude'] = np.sqrt(np.power(safety['gyro_x'], 2) + np.power(safety['gyro_y'], 2) + np.power(safety['gyro_z'], 2))"
   ]
  },
  {
   "cell_type": "code",
   "execution_count": 10,
   "metadata": {},
   "outputs": [],
   "source": [
    "safety['Bearing_ID_diff'] = safety.groupby(['bookingID'])['Bearing'].transform(lambda x: x.diff())\n"
   ]
  },
  {
   "cell_type": "code",
   "execution_count": 11,
   "metadata": {},
   "outputs": [],
   "source": [
    "safety['Bearing_ID_diff'] = safety['Bearing_ID_diff'].fillna(method='backfill')\n"
   ]
  },
  {
   "cell_type": "code",
   "execution_count": 12,
   "metadata": {},
   "outputs": [
    {
     "data": {
      "text/plain": [
       "2097217"
      ]
     },
     "execution_count": 12,
     "metadata": {},
     "output_type": "execute_result"
    }
   ],
   "source": [
    "gc.collect()"
   ]
  },
  {
   "cell_type": "markdown",
   "metadata": {},
   "source": [
    "## Model - 1 (Train,Validation,Test)"
   ]
  },
  {
   "cell_type": "code",
   "execution_count": 13,
   "metadata": {},
   "outputs": [],
   "source": [
    "train_set = safety.copy()"
   ]
  },
  {
   "cell_type": "code",
   "execution_count": 14,
   "metadata": {},
   "outputs": [
    {
     "data": {
      "text/plain": [
       "Index(['bookingID', 'Accuracy', 'Bearing', 'acceleration_x', 'acceleration_y',\n",
       "       'acceleration_z', 'gyro_x', 'gyro_y', 'gyro_z', 'second', 'Speed',\n",
       "       'label', 'Distance', 'Acceleration', 'Pitch', 'Magnitude',\n",
       "       'Bearing_ID_diff'],\n",
       "      dtype='object')"
      ]
     },
     "execution_count": 14,
     "metadata": {},
     "output_type": "execute_result"
    }
   ],
   "source": [
    "train_set.columns"
   ]
  },
  {
   "cell_type": "code",
   "execution_count": 15,
   "metadata": {},
   "outputs": [],
   "source": [
    "train_set, test_set = train_test_split(train_set,stratify=train_set['label'])"
   ]
  },
  {
   "cell_type": "code",
   "execution_count": 16,
   "metadata": {},
   "outputs": [
    {
     "name": "stdout",
     "output_type": "stream",
     "text": [
      "Train shape (786431, 17)\n",
      "Test shape (262144, 17)\n"
     ]
    }
   ],
   "source": [
    "print(\"Train shape\",train_set.shape )\n",
    "print(\"Test shape\",test_set.shape )"
   ]
  },
  {
   "cell_type": "code",
   "execution_count": 17,
   "metadata": {},
   "outputs": [
    {
     "name": "stdout",
     "output_type": "stream",
     "text": [
      "Train Columns Names Index(['bookingID', 'Accuracy', 'Bearing', 'acceleration_x', 'acceleration_y',\n",
      "       'acceleration_z', 'gyro_x', 'gyro_y', 'gyro_z', 'second', 'Speed',\n",
      "       'label', 'Distance', 'Acceleration', 'Pitch', 'Magnitude',\n",
      "       'Bearing_ID_diff'],\n",
      "      dtype='object')\n"
     ]
    }
   ],
   "source": [
    "print(\"Train Columns Names\", train_set.columns)"
   ]
  },
  {
   "cell_type": "code",
   "execution_count": 18,
   "metadata": {},
   "outputs": [
    {
     "data": {
      "text/html": [
       "<div>\n",
       "<style scoped>\n",
       "    .dataframe tbody tr th:only-of-type {\n",
       "        vertical-align: middle;\n",
       "    }\n",
       "\n",
       "    .dataframe tbody tr th {\n",
       "        vertical-align: top;\n",
       "    }\n",
       "\n",
       "    .dataframe thead th {\n",
       "        text-align: right;\n",
       "    }\n",
       "</style>\n",
       "<table border=\"1\" class=\"dataframe\">\n",
       "  <thead>\n",
       "    <tr style=\"text-align: right;\">\n",
       "      <th></th>\n",
       "      <th>bookingID</th>\n",
       "      <th>Accuracy</th>\n",
       "      <th>Bearing</th>\n",
       "      <th>acceleration_x</th>\n",
       "      <th>acceleration_y</th>\n",
       "      <th>acceleration_z</th>\n",
       "      <th>gyro_x</th>\n",
       "      <th>gyro_y</th>\n",
       "      <th>gyro_z</th>\n",
       "      <th>second</th>\n",
       "      <th>Speed</th>\n",
       "      <th>label</th>\n",
       "      <th>Distance</th>\n",
       "      <th>Acceleration</th>\n",
       "      <th>Pitch</th>\n",
       "      <th>Magnitude</th>\n",
       "      <th>Bearing_ID_diff</th>\n",
       "    </tr>\n",
       "  </thead>\n",
       "  <tbody>\n",
       "    <tr>\n",
       "      <th>579795</th>\n",
       "      <td>764504178773</td>\n",
       "      <td>3.000</td>\n",
       "      <td>4.000000</td>\n",
       "      <td>-2.238579</td>\n",
       "      <td>10.415975</td>\n",
       "      <td>-0.220267</td>\n",
       "      <td>0.304003</td>\n",
       "      <td>0.561226</td>\n",
       "      <td>-0.362096</td>\n",
       "      <td>146</td>\n",
       "      <td>1.976533</td>\n",
       "      <td>1</td>\n",
       "      <td>288.573862</td>\n",
       "      <td>10.656092</td>\n",
       "      <td>77.813792</td>\n",
       "      <td>0.733830</td>\n",
       "      <td>-49.000000</td>\n",
       "    </tr>\n",
       "    <tr>\n",
       "      <th>888427</th>\n",
       "      <td>532575944722</td>\n",
       "      <td>3.486</td>\n",
       "      <td>312.000000</td>\n",
       "      <td>0.428438</td>\n",
       "      <td>10.216557</td>\n",
       "      <td>-0.204264</td>\n",
       "      <td>0.008308</td>\n",
       "      <td>-0.039514</td>\n",
       "      <td>-0.008343</td>\n",
       "      <td>249</td>\n",
       "      <td>0.927154</td>\n",
       "      <td>1</td>\n",
       "      <td>230.861346</td>\n",
       "      <td>10.227576</td>\n",
       "      <td>87.340074</td>\n",
       "      <td>0.041231</td>\n",
       "      <td>150.000000</td>\n",
       "    </tr>\n",
       "    <tr>\n",
       "      <th>47981</th>\n",
       "      <td>231928234160</td>\n",
       "      <td>10.000</td>\n",
       "      <td>222.031219</td>\n",
       "      <td>-0.500946</td>\n",
       "      <td>-8.446399</td>\n",
       "      <td>-3.792834</td>\n",
       "      <td>0.005105</td>\n",
       "      <td>-0.031778</td>\n",
       "      <td>0.032062</td>\n",
       "      <td>716</td>\n",
       "      <td>16.469999</td>\n",
       "      <td>0</td>\n",
       "      <td>11792.519508</td>\n",
       "      <td>9.272443</td>\n",
       "      <td>-65.631981</td>\n",
       "      <td>0.045430</td>\n",
       "      <td>15.147293</td>\n",
       "    </tr>\n",
       "    <tr>\n",
       "      <th>829491</th>\n",
       "      <td>1666447310947</td>\n",
       "      <td>10.000</td>\n",
       "      <td>50.754250</td>\n",
       "      <td>0.602780</td>\n",
       "      <td>-9.416589</td>\n",
       "      <td>-2.888589</td>\n",
       "      <td>-0.005155</td>\n",
       "      <td>0.051066</td>\n",
       "      <td>0.006152</td>\n",
       "      <td>259</td>\n",
       "      <td>0.000000</td>\n",
       "      <td>0</td>\n",
       "      <td>0.000000</td>\n",
       "      <td>9.868103</td>\n",
       "      <td>-72.600931</td>\n",
       "      <td>0.051693</td>\n",
       "      <td>-64.333771</td>\n",
       "    </tr>\n",
       "    <tr>\n",
       "      <th>588048</th>\n",
       "      <td>738734374954</td>\n",
       "      <td>3.000</td>\n",
       "      <td>286.000000</td>\n",
       "      <td>-0.785322</td>\n",
       "      <td>7.733508</td>\n",
       "      <td>5.231491</td>\n",
       "      <td>0.032987</td>\n",
       "      <td>-0.014661</td>\n",
       "      <td>-0.051313</td>\n",
       "      <td>353</td>\n",
       "      <td>0.608600</td>\n",
       "      <td>1</td>\n",
       "      <td>214.835835</td>\n",
       "      <td>9.369758</td>\n",
       "      <td>55.625918</td>\n",
       "      <td>0.062738</td>\n",
       "      <td>196.000000</td>\n",
       "    </tr>\n",
       "  </tbody>\n",
       "</table>\n",
       "</div>"
      ],
      "text/plain": [
       "            bookingID  Accuracy     Bearing  acceleration_x  acceleration_y  \\\n",
       "579795   764504178773     3.000    4.000000       -2.238579       10.415975   \n",
       "888427   532575944722     3.486  312.000000        0.428438       10.216557   \n",
       "47981    231928234160    10.000  222.031219       -0.500946       -8.446399   \n",
       "829491  1666447310947    10.000   50.754250        0.602780       -9.416589   \n",
       "588048   738734374954     3.000  286.000000       -0.785322        7.733508   \n",
       "\n",
       "        acceleration_z    gyro_x    gyro_y    gyro_z  second      Speed  \\\n",
       "579795       -0.220267  0.304003  0.561226 -0.362096     146   1.976533   \n",
       "888427       -0.204264  0.008308 -0.039514 -0.008343     249   0.927154   \n",
       "47981        -3.792834  0.005105 -0.031778  0.032062     716  16.469999   \n",
       "829491       -2.888589 -0.005155  0.051066  0.006152     259   0.000000   \n",
       "588048        5.231491  0.032987 -0.014661 -0.051313     353   0.608600   \n",
       "\n",
       "        label      Distance  Acceleration      Pitch  Magnitude  \\\n",
       "579795      1    288.573862     10.656092  77.813792   0.733830   \n",
       "888427      1    230.861346     10.227576  87.340074   0.041231   \n",
       "47981       0  11792.519508      9.272443 -65.631981   0.045430   \n",
       "829491      0      0.000000      9.868103 -72.600931   0.051693   \n",
       "588048      1    214.835835      9.369758  55.625918   0.062738   \n",
       "\n",
       "        Bearing_ID_diff  \n",
       "579795       -49.000000  \n",
       "888427       150.000000  \n",
       "47981         15.147293  \n",
       "829491       -64.333771  \n",
       "588048       196.000000  "
      ]
     },
     "execution_count": 18,
     "metadata": {},
     "output_type": "execute_result"
    }
   ],
   "source": [
    "train_set.head()"
   ]
  },
  {
   "cell_type": "code",
   "execution_count": 19,
   "metadata": {},
   "outputs": [],
   "source": [
    "target = train_set['label']\n",
    "del train_set['label']"
   ]
  },
  {
   "cell_type": "code",
   "execution_count": 20,
   "metadata": {},
   "outputs": [],
   "source": [
    "# Creating splits\n",
    "shuffle_split_tr = ShuffleSplit(n_splits=10, test_size=0.3, random_state=22)\n",
    "shuffle_split_tr.get_n_splits(train_set, target)\n",
    "train_idx, val_idx = next(shuffle_split_tr.split(train_set, target))"
   ]
  },
  {
   "cell_type": "code",
   "execution_count": 21,
   "metadata": {},
   "outputs": [
    {
     "name": "stdout",
     "output_type": "stream",
     "text": [
      "train_idx shape (550501,)\n",
      "val_idx shape (235930,)\n"
     ]
    }
   ],
   "source": [
    "print(\"train_idx shape\",train_idx.shape )\n",
    "print(\"val_idx shape\",val_idx.shape )"
   ]
  },
  {
   "cell_type": "code",
   "execution_count": 22,
   "metadata": {},
   "outputs": [],
   "source": [
    "#From train_set -> val set"
   ]
  },
  {
   "cell_type": "code",
   "execution_count": 23,
   "metadata": {},
   "outputs": [],
   "source": [
    "shuffle_split_val_test = ShuffleSplit(n_splits=1, test_size=0.5, random_state=22)\n",
    "shuffle_split_val_test.get_n_splits(val_idx, target[val_idx])\n",
    "val_idx, tst_idx = next(shuffle_split_val_test.split(val_idx, target[val_idx])) \n"
   ]
  },
  {
   "cell_type": "code",
   "execution_count": 24,
   "metadata": {},
   "outputs": [
    {
     "name": "stdout",
     "output_type": "stream",
     "text": [
      "val_idx shape (117965,)\n",
      "tst_idx shape (117965,)\n"
     ]
    }
   ],
   "source": [
    "print(\"val_idx shape\",val_idx.shape )\n",
    "print(\"tst_idx shape\",tst_idx.shape )"
   ]
  },
  {
   "cell_type": "markdown",
   "metadata": {},
   "source": [
    "## Model Preparation Light Gradient Boosting Machine"
   ]
  },
  {
   "cell_type": "code",
   "execution_count": 25,
   "metadata": {},
   "outputs": [],
   "source": [
    "train_lgb = lgb.Dataset(train_set.iloc[train_idx],\n",
    "                        label=target.iloc[train_idx])"
   ]
  },
  {
   "cell_type": "code",
   "execution_count": 26,
   "metadata": {},
   "outputs": [],
   "source": [
    "val_lgb = lgb.Dataset(train_set.iloc[val_idx],\n",
    "                      label=target.iloc[val_idx])"
   ]
  },
  {
   "cell_type": "raw",
   "metadata": {},
   "source": [
    "https://lightgbm.readthedocs.io/en/latest/Parameters-Tuning.html #Ref"
   ]
  },
  {
   "cell_type": "code",
   "execution_count": 27,
   "metadata": {},
   "outputs": [],
   "source": [
    "params_1 = {'num_leaves': 60,\n",
    "          'min_data_in_leaf': 60, \n",
    "          'objective':'binary',\n",
    "          'max_depth': 8,\n",
    "          'learning_rate': 0.1,\n",
    "          'boosting': 'gbdt',\n",
    "          'feature_fraction': 0.8,\n",
    "          'bagging_freq': 1,\n",
    "          'bagging_fraction': 0.8 ,\n",
    "          'bagging_seed': 11,\n",
    "          'metric': 'auc',\n",
    "          'lambda_l1': 0.50,\n",
    "          'random_state': 133,\n",
    "          'verbosity': -1,\n",
    "         'metric' : 'auc'}\n",
    "\n",
    "\n",
    "num_round = 4000\n"
   ]
  },
  {
   "cell_type": "code",
   "execution_count": 28,
   "metadata": {},
   "outputs": [
    {
     "name": "stdout",
     "output_type": "stream",
     "text": [
      "Training until validation scores don't improve for 200 rounds.\n",
      "[100]\ttraining's auc: 0.974405\tvalid_1's auc: 0.973766\n",
      "[200]\ttraining's auc: 0.991503\tvalid_1's auc: 0.991073\n",
      "[300]\ttraining's auc: 0.995701\tvalid_1's auc: 0.995377\n",
      "[400]\ttraining's auc: 0.997356\tvalid_1's auc: 0.997025\n",
      "[500]\ttraining's auc: 0.998342\tvalid_1's auc: 0.998033\n",
      "[600]\ttraining's auc: 0.998885\tvalid_1's auc: 0.998596\n",
      "[700]\ttraining's auc: 0.99921\tvalid_1's auc: 0.998937\n",
      "[800]\ttraining's auc: 0.999447\tvalid_1's auc: 0.999205\n",
      "[900]\ttraining's auc: 0.999599\tvalid_1's auc: 0.999375\n",
      "[1000]\ttraining's auc: 0.999711\tvalid_1's auc: 0.999508\n",
      "[1100]\ttraining's auc: 0.999794\tvalid_1's auc: 0.999607\n",
      "[1200]\ttraining's auc: 0.999854\tvalid_1's auc: 0.999675\n",
      "[1300]\ttraining's auc: 0.999896\tvalid_1's auc: 0.999736\n",
      "[1400]\ttraining's auc: 0.999926\tvalid_1's auc: 0.999777\n",
      "[1500]\ttraining's auc: 0.99995\tvalid_1's auc: 0.999813\n",
      "[1600]\ttraining's auc: 0.999966\tvalid_1's auc: 0.999841\n",
      "[1700]\ttraining's auc: 0.999977\tvalid_1's auc: 0.999862\n",
      "[1800]\ttraining's auc: 0.999985\tvalid_1's auc: 0.999877\n",
      "[1900]\ttraining's auc: 0.99999\tvalid_1's auc: 0.999891\n",
      "[2000]\ttraining's auc: 0.999994\tvalid_1's auc: 0.999901\n",
      "[2100]\ttraining's auc: 0.999996\tvalid_1's auc: 0.99991\n",
      "[2200]\ttraining's auc: 0.999998\tvalid_1's auc: 0.999917\n",
      "[2300]\ttraining's auc: 0.999999\tvalid_1's auc: 0.999923\n",
      "[2400]\ttraining's auc: 0.999999\tvalid_1's auc: 0.999929\n",
      "[2500]\ttraining's auc: 1\tvalid_1's auc: 0.999935\n",
      "[2600]\ttraining's auc: 1\tvalid_1's auc: 0.999939\n",
      "[2700]\ttraining's auc: 1\tvalid_1's auc: 0.999941\n",
      "[2800]\ttraining's auc: 1\tvalid_1's auc: 0.999944\n",
      "[2900]\ttraining's auc: 1\tvalid_1's auc: 0.999946\n",
      "[3000]\ttraining's auc: 1\tvalid_1's auc: 0.999949\n",
      "[3100]\ttraining's auc: 1\tvalid_1's auc: 0.999951\n",
      "[3200]\ttraining's auc: 1\tvalid_1's auc: 0.999953\n",
      "[3300]\ttraining's auc: 1\tvalid_1's auc: 0.999955\n",
      "[3400]\ttraining's auc: 1\tvalid_1's auc: 0.999956\n",
      "[3500]\ttraining's auc: 1\tvalid_1's auc: 0.999958\n",
      "[3600]\ttraining's auc: 1\tvalid_1's auc: 0.999959\n",
      "[3700]\ttraining's auc: 1\tvalid_1's auc: 0.99996\n",
      "[3800]\ttraining's auc: 1\tvalid_1's auc: 0.999961\n",
      "[3900]\ttraining's auc: 1\tvalid_1's auc: 0.999961\n",
      "Early stopping, best iteration is:\n",
      "[3738]\ttraining's auc: 1\tvalid_1's auc: 0.999961\n"
     ]
    }
   ],
   "source": [
    "model = lgb.train(params_1,\n",
    "                  train_lgb,\n",
    "                  num_round,\n",
    "                  valid_sets = [train_lgb, val_lgb],\n",
    "                  verbose_eval = 100,\n",
    "                  early_stopping_rounds = 200)                                                                                                       "
   ]
  },
  {
   "cell_type": "markdown",
   "metadata": {},
   "source": [
    "# Predicting probabilities  - Test Data "
   ]
  },
  {
   "cell_type": "code",
   "execution_count": 29,
   "metadata": {},
   "outputs": [
    {
     "data": {
      "text/plain": [
       "Index(['bookingID', 'Accuracy', 'Bearing', 'acceleration_x', 'acceleration_y',\n",
       "       'acceleration_z', 'gyro_x', 'gyro_y', 'gyro_z', 'second', 'Speed',\n",
       "       'label', 'Distance', 'Acceleration', 'Pitch', 'Magnitude',\n",
       "       'Bearing_ID_diff'],\n",
       "      dtype='object')"
      ]
     },
     "execution_count": 29,
     "metadata": {},
     "output_type": "execute_result"
    }
   ],
   "source": [
    "test_set.columns"
   ]
  },
  {
   "cell_type": "code",
   "execution_count": 30,
   "metadata": {},
   "outputs": [],
   "source": [
    "test_set_with_label = test_set.copy()"
   ]
  },
  {
   "cell_type": "code",
   "execution_count": 31,
   "metadata": {},
   "outputs": [],
   "source": [
    "test_set = test_set.drop(columns=['label'],axis=1)"
   ]
  },
  {
   "cell_type": "code",
   "execution_count": 32,
   "metadata": {},
   "outputs": [
    {
     "data": {
      "text/html": [
       "<div>\n",
       "<style scoped>\n",
       "    .dataframe tbody tr th:only-of-type {\n",
       "        vertical-align: middle;\n",
       "    }\n",
       "\n",
       "    .dataframe tbody tr th {\n",
       "        vertical-align: top;\n",
       "    }\n",
       "\n",
       "    .dataframe thead th {\n",
       "        text-align: right;\n",
       "    }\n",
       "</style>\n",
       "<table border=\"1\" class=\"dataframe\">\n",
       "  <thead>\n",
       "    <tr style=\"text-align: right;\">\n",
       "      <th></th>\n",
       "      <th>bookingID</th>\n",
       "      <th>Accuracy</th>\n",
       "      <th>Bearing</th>\n",
       "      <th>acceleration_x</th>\n",
       "      <th>acceleration_y</th>\n",
       "      <th>acceleration_z</th>\n",
       "      <th>gyro_x</th>\n",
       "      <th>gyro_y</th>\n",
       "      <th>gyro_z</th>\n",
       "      <th>second</th>\n",
       "      <th>Speed</th>\n",
       "      <th>Distance</th>\n",
       "      <th>Acceleration</th>\n",
       "      <th>Pitch</th>\n",
       "      <th>Magnitude</th>\n",
       "      <th>Bearing_ID_diff</th>\n",
       "    </tr>\n",
       "  </thead>\n",
       "  <tbody>\n",
       "    <tr>\n",
       "      <th>207844</th>\n",
       "      <td>1151051235334</td>\n",
       "      <td>3.9</td>\n",
       "      <td>279.0</td>\n",
       "      <td>0.33878</td>\n",
       "      <td>9.718064</td>\n",
       "      <td>2.96043</td>\n",
       "      <td>-0.172677</td>\n",
       "      <td>-0.054367</td>\n",
       "      <td>0.069284</td>\n",
       "      <td>891</td>\n",
       "      <td>21.820105</td>\n",
       "      <td>19441.713555</td>\n",
       "      <td>10.164629</td>\n",
       "      <td>72.953419</td>\n",
       "      <td>0.193838</td>\n",
       "      <td>274.0</td>\n",
       "    </tr>\n",
       "  </tbody>\n",
       "</table>\n",
       "</div>"
      ],
      "text/plain": [
       "            bookingID  Accuracy  Bearing  acceleration_x  acceleration_y  \\\n",
       "207844  1151051235334       3.9    279.0         0.33878        9.718064   \n",
       "\n",
       "        acceleration_z    gyro_x    gyro_y    gyro_z  second      Speed  \\\n",
       "207844         2.96043 -0.172677 -0.054367  0.069284     891  21.820105   \n",
       "\n",
       "            Distance  Acceleration      Pitch  Magnitude  Bearing_ID_diff  \n",
       "207844  19441.713555     10.164629  72.953419   0.193838            274.0  "
      ]
     },
     "execution_count": 32,
     "metadata": {},
     "output_type": "execute_result"
    }
   ],
   "source": [
    "test_set.head(1)"
   ]
  },
  {
   "cell_type": "code",
   "execution_count": 33,
   "metadata": {},
   "outputs": [],
   "source": [
    "# Predicting probabilities \n",
    "probs = model.predict(test_set, num_iteration=model.best_iteration)\n",
    "predictions_lgbm_01 = np.where(probs > 0.5, 1, 0) #Turn probability to 0-1 binary output\n"
   ]
  },
  {
   "cell_type": "code",
   "execution_count": 34,
   "metadata": {},
   "outputs": [],
   "source": [
    "test_set['lgbm'] = predictions_lgbm_01"
   ]
  },
  {
   "cell_type": "code",
   "execution_count": 35,
   "metadata": {},
   "outputs": [
    {
     "data": {
      "text/plain": [
       "Counter({1: 88526, 0: 173618})"
      ]
     },
     "execution_count": 35,
     "metadata": {},
     "output_type": "execute_result"
    }
   ],
   "source": [
    "Counter(test_set_with_label['label'])"
   ]
  },
  {
   "cell_type": "code",
   "execution_count": 36,
   "metadata": {},
   "outputs": [
    {
     "data": {
      "text/plain": [
       "Counter({1: 88111, 0: 174033})"
      ]
     },
     "execution_count": 36,
     "metadata": {},
     "output_type": "execute_result"
    }
   ],
   "source": [
    "Counter(test_set['lgbm'])"
   ]
  },
  {
   "cell_type": "code",
   "execution_count": 37,
   "metadata": {},
   "outputs": [],
   "source": [
    "## Model Importance Finding "
   ]
  },
  {
   "cell_type": "code",
   "execution_count": 38,
   "metadata": {},
   "outputs": [
    {
     "data": {
      "text/plain": [
       "<matplotlib.axes._subplots.AxesSubplot at 0x1a57cb91d0>"
      ]
     },
     "execution_count": 38,
     "metadata": {},
     "output_type": "execute_result"
    },
    {
     "data": {
      "image/png": "[encoded data removed]",
      "text/plain": [
       "<Figure size 432x288 with 1 Axes>"
      ]
     },
     "metadata": {
      "needs_background": "light"
     },
     "output_type": "display_data"
    }
   ],
   "source": [
    "lgb.plot_importance(model,importance_type='split')"
   ]
  },
  {
   "cell_type": "code",
   "execution_count": 39,
   "metadata": {},
   "outputs": [
    {
     "data": {
      "text/plain": [
       "<matplotlib.axes._subplots.AxesSubplot at 0x1a22f01550>"
      ]
     },
     "execution_count": 39,
     "metadata": {},
     "output_type": "execute_result"
    },
    {
     "data": {
      "image/png": "[encoded data removed]",
      "text/plain": [
       "<Figure size 432x288 with 1 Axes>"
      ]
     },
     "metadata": {
      "needs_background": "light"
     },
     "output_type": "display_data"
    }
   ],
   "source": [
    "lgb.plot_importance(model,importance_type='gain')"
   ]
  },
  {
   "cell_type": "code",
   "execution_count": 40,
   "metadata": {},
   "outputs": [
    {
     "name": "stdout",
     "output_type": "stream",
     "text": [
      "Overall accuracy of Light GBM model: 0.9922676086425781\n"
     ]
    }
   ],
   "source": [
    "acc_lgbm = accuracy_score(test_set_with_label['label'],predictions_lgbm_01)\n",
    "print('Overall accuracy of Light GBM model:', acc_lgbm)\n"
   ]
  },
  {
   "cell_type": "code",
   "execution_count": null,
   "metadata": {},
   "outputs": [],
   "source": []
  },
  {
   "cell_type": "markdown",
   "metadata": {},
   "source": [
    "## Area Under Curve"
   ]
  },
  {
   "cell_type": "code",
   "execution_count": 46,
   "metadata": {},
   "outputs": [
    {
     "data": {
      "image/png": "[encoded data removed]",
      "text/plain": [
       "<Figure size 432x288 with 1 Axes>"
      ]
     },
     "metadata": {
      "needs_background": "light"
     },
     "output_type": "display_data"
    }
   ],
   "source": [
    "#Print Area Under Curve\n",
    "plt.figure()\n",
    "false_positive_rate, recall, thresholds = roc_curve(test_set_with_label['label'], predictions_lgbm_01)\n",
    "roc_auc = auc(false_positive_rate, recall)\n",
    "plt.title('Receiver Operating Characteristic (ROC)')\n",
    "plt.plot(false_positive_rate, recall, 'b', label = 'AUC = %0.3f' %roc_auc)\n",
    "plt.legend(loc='lower right')\n",
    "plt.plot([0,1], [0,1], 'r--')\n",
    "plt.xlim([-0.05, 1.10])\n",
    "plt.ylim([-0.05, 1.10])\n",
    "\n",
    "plt.ylabel('Recall')\n",
    "plt.xlabel('Fall-out (1-Specificity)')\n",
    "plt.show()\n"
   ]
  },
  {
   "cell_type": "code",
   "execution_count": 43,
   "metadata": {},
   "outputs": [
    {
     "name": "stdout",
     "output_type": "stream",
     "text": [
      "Auc Score 0.9907825330454763\n"
     ]
    }
   ],
   "source": [
    "AUC = roc_auc_score(test_set_with_label['label'], predictions_lgbm_01)\n",
    "print(\"Auc Score\", AUC)"
   ]
  },
  {
   "cell_type": "markdown",
   "metadata": {},
   "source": [
    "## Confusion Matrix"
   ]
  },
  {
   "cell_type": "code",
   "execution_count": 48,
   "metadata": {},
   "outputs": [
    {
     "data": {
      "text/plain": [
       "<Figure size 432x288 with 0 Axes>"
      ]
     },
     "metadata": {},
     "output_type": "display_data"
    },
    {
     "data": {
      "image/png": "[encoded data removed]",
      "text/plain": [
       "<Figure size 576x432 with 2 Axes>"
      ]
     },
     "metadata": {
      "needs_background": "light"
     },
     "output_type": "display_data"
    }
   ],
   "source": [
    "plt.figure()\n",
    "cm = confusion_matrix(test_set_with_label['label'], predictions_lgbm_01)\n",
    "labels = ['1', '0']\n",
    "plt.figure(figsize=(8,6))\n",
    "sns.heatmap(cm, xticklabels = labels, yticklabels = labels, annot = True, fmt='d', cmap=\"Blues\", vmin = 0.2);\n",
    "plt.title('Confusion Matrix')\n",
    "plt.ylabel('True Class')\n",
    "plt.xlabel('Predicted Class')\n",
    "plt.show()\n"
   ]
  },
  {
   "cell_type": "code",
   "execution_count": 49,
   "metadata": {},
   "outputs": [],
   "source": [
    "target_names = test_set_with_label['label'].unique()\n"
   ]
  },
  {
   "cell_type": "code",
   "execution_count": 50,
   "metadata": {},
   "outputs": [
    {
     "name": "stdout",
     "output_type": "stream",
     "text": [
      "              precision    recall  f1-score   support\n",
      "\n",
      "           0       0.99      1.00      0.99    173618\n",
      "           1       0.99      0.99      0.99     88526\n",
      "\n",
      "   micro avg       0.99      0.99      0.99    262144\n",
      "   macro avg       0.99      0.99      0.99    262144\n",
      "weighted avg       0.99      0.99      0.99    262144\n",
      "\n"
     ]
    }
   ],
   "source": [
    "print(classification_report(test_set_with_label['label'], predictions_lgbm_01))"
   ]
  },
  {
   "cell_type": "markdown",
   "metadata": {},
   "source": [
    "## Final Report "
   ]
  },
  {
   "cell_type": "code",
   "execution_count": 50,
   "metadata": {},
   "outputs": [
    {
     "name": "stdout",
     "output_type": "stream",
     "text": [
      "Accuracy of Light GBM model: 0.9922676086425781 \n",
      "\n",
      "Auc Score 0.9907825330454763 \n",
      "\n",
      "Confusion Matrix               precision    recall  f1-score   support\n",
      "\n",
      "           0       0.99      1.00      0.99    173618\n",
      "           1       0.99      0.99      0.99     88526\n",
      "\n",
      "   micro avg       0.99      0.99      0.99    262144\n",
      "   macro avg       0.99      0.99      0.99    262144\n",
      "weighted avg       0.99      0.99      0.99    262144\n",
      " \n",
      "\n"
     ]
    }
   ],
   "source": [
    "print('Accuracy of Light GBM model:', acc_lgbm,'\\n')\n",
    "print(\"Auc Score\", AUC,'\\n')\n",
    "print(\"Confusion Matrix\",classification_report(test_set_with_label['label'], predictions_lgbm_01),'\\n')"
   ]
  },
  {
   "cell_type": "code",
   "execution_count": null,
   "metadata": {},
   "outputs": [],
   "source": []
  }
 ],
 "metadata": {
  "kernelspec": {
   "display_name": "Python 3",
   "language": "python",
   "name": "python3"
  },
  "language_info": {
   "codemirror_mode": {
    "name": "ipython",
    "version": 3
   },
   "file_extension": ".py",
   "mimetype": "text/x-python",
   "name": "python",
   "nbconvert_exporter": "python",
   "pygments_lexer": "ipython3",
   "version": "3.6.8"
  }
 },
 "nbformat": 4,
 "nbformat_minor": 2
}
